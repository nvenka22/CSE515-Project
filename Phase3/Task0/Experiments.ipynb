{
 "cells": [
  {
   "cell_type": "code",
   "execution_count": 103,
   "id": "b6dda0b0-fe9d-4395-8af7-e8864c34da4b",
   "metadata": {},
   "outputs": [],
   "source": [
    "import warnings\n",
    "warnings.filterwarnings('ignore')\n",
    "\n",
    "import numpy as np\n",
    "from sklearn.manifold import smacof\n",
    "from distance_utils import *\n",
    "from sklearn.metrics import pairwise_distances"
   ]
  },
  {
   "cell_type": "code",
   "execution_count": 112,
   "id": "6ffc489e-593a-42bf-aad2-36bbe9bb53d0",
   "metadata": {
    "scrolled": true
   },
   "outputs": [],
   "source": [
    "# Create a dataset\n",
    "X = np.random.random_integers(-2000,2000, size=(900, 100))\n",
    "# X = X/np.linalg.norm(X)\n",
    "\n",
    "Y = np.random.random_integers(-2000,2000, size=(900, 10))\n",
    "# Y = Y/np.linalg.norm(Y)"
   ]
  },
  {
   "cell_type": "code",
   "execution_count": null,
   "id": "71a9f66a-f738-40e0-af1b-961dbd2fd176",
   "metadata": {},
   "outputs": [],
   "source": [
    "\n"
   ]
  },
  {
   "cell_type": "code",
   "execution_count": 63,
   "id": "627f2474-a5e8-45c4-84d5-ed6decf3975d",
   "metadata": {},
   "outputs": [
    {
     "data": {
      "text/plain": [
       "array([[ -207, -1834, -1995, ...,     0,     0,     0],\n",
       "       [ 1604,  -222,   396, ...,     0,     0,     0],\n",
       "       [-1355, -1273,  1022, ...,     0,     0,     0],\n",
       "       ...,\n",
       "       [  158, -1032,   278, ...,     0,     0,     0],\n",
       "       [-1699,  1303,  -755, ...,     0,     0,     0],\n",
       "       [ 1012,  1100,  -732, ...,     0,     0,     0]])"
      ]
     },
     "execution_count": 63,
     "metadata": {},
     "output_type": "execute_result"
    }
   ],
   "source": [
    "Y"
   ]
  },
  {
   "cell_type": "code",
   "execution_count": 36,
   "id": "a73df74a-db3b-4e32-8a27-bb129fc3d0ad",
   "metadata": {},
   "outputs": [
    {
     "data": {
      "text/plain": [
       "0.29710265549436726"
      ]
     },
     "execution_count": 36,
     "metadata": {},
     "output_type": "execute_result"
    }
   ],
   "source": [
    "# Perform multidimensional scaling\n",
    "_,stress = smacof(n_components=2, dissimilarities=X, normalized_stress=True, metric=False)\n",
    "stress\n"
   ]
  },
  {
   "cell_type": "code",
   "execution_count": 86,
   "id": "1a32dc96-955c-4aab-aa9f-a16af618bd2f",
   "metadata": {},
   "outputs": [],
   "source": [
    "import random\n",
    "r = np.array([random.randrange(1, 1000) for _ in range(0, 1000)])\n",
    "c = r[:, None]\n",
    "dists = np.abs(r - r[:, None])"
   ]
  },
  {
   "cell_type": "code",
   "execution_count": 102,
   "id": "9b1acd44-f0d5-4f94-9b3d-6fc970b4020c",
   "metadata": {},
   "outputs": [
    {
     "data": {
      "text/plain": [
       "(900, 900, 100)"
      ]
     },
     "execution_count": 102,
     "metadata": {},
     "output_type": "execute_result"
    }
   ],
   "source": [
    "np.abs(X - X[:,None]).shape"
   ]
  },
  {
   "cell_type": "code",
   "execution_count": 113,
   "id": "c12c0c98-bf74-498c-88a7-755edf50c73d",
   "metadata": {},
   "outputs": [],
   "source": [
    "dist = pairwise_distances(X)"
   ]
  },
  {
   "cell_type": "code",
   "execution_count": 111,
   "id": "15b9788b-beb9-4af2-9245-e167d158c92f",
   "metadata": {},
   "outputs": [
    {
     "data": {
      "text/plain": [
       "array([[0.        , 0.05006091, 0.04686859, ..., 0.04974494, 0.05032484,\n",
       "        0.04944815],\n",
       "       [0.05006091, 0.        , 0.04683941, ..., 0.04461266, 0.04390541,\n",
       "        0.04992505],\n",
       "       [0.04686859, 0.04683941, 0.        , ..., 0.04553586, 0.04847867,\n",
       "        0.04662325],\n",
       "       ...,\n",
       "       [0.04974494, 0.04461266, 0.04553586, ..., 0.        , 0.04410017,\n",
       "        0.04792273],\n",
       "       [0.05032484, 0.04390541, 0.04847867, ..., 0.04410017, 0.        ,\n",
       "        0.05065715],\n",
       "       [0.04944815, 0.04992505, 0.04662325, ..., 0.04792273, 0.05065715,\n",
       "        0.        ]])"
      ]
     },
     "execution_count": 111,
     "metadata": {},
     "output_type": "execute_result"
    }
   ],
   "source": [
    "dist"
   ]
  },
  {
   "cell_type": "code",
   "execution_count": 163,
   "id": "541b1a99-f676-4e18-9ac3-9bb01a66fada",
   "metadata": {},
   "outputs": [],
   "source": [
    "import scipy\n",
    "import os\n",
    "from distance_utils import featurenormalize\n",
    "data = scipy.io.loadmat('../../Store/arrays.mat')\n",
    "X = data[\"cm_features\"]\n",
    "X_norm = featurenormalize(X)"
   ]
  },
  {
   "cell_type": "code",
   "execution_count": 164,
   "id": "e44b7691-aac0-4f58-ae5d-fb1e65a7ff62",
   "metadata": {},
   "outputs": [],
   "source": [
    "dissimilarities = pairwise_distances(X_norm)"
   ]
  },
  {
   "cell_type": "code",
   "execution_count": 165,
   "id": "bb9029bd-c303-445a-bb72-11eaa24e5ce5",
   "metadata": {},
   "outputs": [
    {
     "name": "stdout",
     "output_type": "stream",
     "text": [
      "CPU times: user 26.9 s, sys: 1.93 s, total: 28.9 s\n",
      "Wall time: 24.1 s\n"
     ]
    },
    {
     "data": {
      "text/plain": [
       "2.2106663159274273e-16"
      ]
     },
     "execution_count": 165,
     "metadata": {},
     "output_type": "execute_result"
    }
   ],
   "source": [
    "%%time\n",
    "_,stress = smacof(dissimilarities=dissimilarities, init = X_norm, normalized_stress=True, metric=False)\n",
    "stress"
   ]
  },
  {
   "cell_type": "code",
   "execution_count": 157,
   "id": "d8b03f21-edd8-403b-a800-4bdf5c6a5e6f",
   "metadata": {},
   "outputs": [
    {
     "data": {
      "text/plain": [
       "dict_keys(['__header__', '__version__', '__globals__', 'labels', 'cm_features', 'hog_features', 'avgpool_features', 'layer3_features', 'fc_features', 'resnet_features'])"
      ]
     },
     "execution_count": 157,
     "metadata": {},
     "output_type": "execute_result"
    }
   ],
   "source": [
    "data.keys()"
   ]
  },
  {
   "cell_type": "code",
   "execution_count": 166,
   "id": "0f58d663-ba3e-4f91-8beb-b500b8f6ae02",
   "metadata": {},
   "outputs": [],
   "source": [
    "%%time\n",
    "from sklearn.decomposition import PCA\n",
    "pca = PCA(n_components=\"mle\")\n",
    "pca.fit(X_norm)\n",
    "Y = pca.transform(X_norm)"
   ]
  },
  {
   "cell_type": "code",
   "execution_count": 169,
   "id": "fe34edac-11d8-442c-a413-f6d463421054",
   "metadata": {},
   "outputs": [
    {
     "data": {
      "text/plain": [
       "(4339, 873)"
      ]
     },
     "execution_count": 169,
     "metadata": {},
     "output_type": "execute_result"
    }
   ],
   "source": [
    "Y.shape"
   ]
  },
  {
   "cell_type": "code",
   "execution_count": 170,
   "id": "48e24fd4-f0fa-4b0d-a4b5-65fae26c5695",
   "metadata": {},
   "outputs": [],
   "source": [
    "dissimilarities_Y = pairwise_distances(Y)"
   ]
  },
  {
   "cell_type": "code",
   "execution_count": 171,
   "id": "0cc10198-ef83-4e6b-ad26-106d99973e10",
   "metadata": {},
   "outputs": [
    {
     "data": {
      "text/plain": [
       "7.684351312877257e-13"
      ]
     },
     "execution_count": 171,
     "metadata": {},
     "output_type": "execute_result"
    }
   ],
   "source": [
    "_,stress_Y = smacof(dissimilarities=dissimilarities_Y, init = Y, normalized_stress=True, metric=False)\n",
    "stress_Y"
   ]
  },
  {
   "cell_type": "code",
   "execution_count": 172,
   "id": "6979b725-3c1f-4522-b824-933ca39a742a",
   "metadata": {},
   "outputs": [
    {
     "data": {
      "text/plain": [
       "False"
      ]
     },
     "execution_count": 172,
     "metadata": {},
     "output_type": "execute_result"
    }
   ],
   "source": [
    "stress>stress_Y"
   ]
  },
  {
   "cell_type": "code",
   "execution_count": 178,
   "id": "6cc2b7e5-2e3a-4963-94f5-33997c5374e5",
   "metadata": {},
   "outputs": [
    {
     "name": "stderr",
     "output_type": "stream",
     "text": [
      "100%|█████████████████████████████████████████████████████████████████████████████| 6/6 [05:31<00:00, 55.22s/it]\n"
     ]
    }
   ],
   "source": [
    "import scipy\n",
    "import os\n",
    "from sklearn.decomposition import PCA\n",
    "from distance_utils import featurenormalize\n",
    "from tqdm import tqdm\n",
    "data = scipy.io.loadmat('../../Store/arrays.mat')\n",
    "hashmap = {}\n",
    "features = ['cm_features', 'hog_features', 'avgpool_features', 'layer3_features', 'fc_features', 'resnet_features']\n",
    "for feature in tqdm(features):\n",
    "    X = data[feature]\n",
    "    X_norm = featurenormalize(X)\n",
    "    dissimilarities = pairwise_distances(X_norm)\n",
    "    _,stress = smacof(dissimilarities=dissimilarities, init = X_norm, normalized_stress=True, metric=False)\n",
    "    \n",
    "    pca = PCA(n_components='mle')\n",
    "    pca.fit(X_norm)\n",
    "    Y = pca.transform(X_norm)\n",
    "    \n",
    "    dissimilarities_Y = pairwise_distances(Y)\n",
    "    _,stress_Y = smacof(dissimilarities=dissimilarities_Y, init = Y, normalized_stress=True, metric=False)\n",
    "    \n",
    "    hashmap[feature] = [stress, stress_Y]"
   ]
  },
  {
   "cell_type": "code",
   "execution_count": 174,
   "id": "b48d5ff9-a77a-4f1b-888b-277b3c81027f",
   "metadata": {},
   "outputs": [
    {
     "data": {
      "text/plain": [
       "{'cm_features': [2.2106663159274273e-16, 7.684351312877257e-13],\n",
       " 'hog_features': [2.191922842555055e-16, 6.649818965363446e-16],\n",
       " 'avgpool_features': [4.560424932506581e-16, 6.679384729686748e-16],\n",
       " 'layer3_features': [8.89857826226048e-16, 1.33317000083465e-15],\n",
       " 'fc_features': [2.1929855952513896e-16, 1.8007375654995253e-17],\n",
       " 'resnet_features': [3.499290615133032e-16, 2.3359910350527583e-16]}"
      ]
     },
     "execution_count": 174,
     "metadata": {},
     "output_type": "execute_result"
    }
   ],
   "source": [
    "hashmap"
   ]
  },
  {
   "cell_type": "code",
   "execution_count": 176,
   "id": "dc02372e-5079-42f0-92b3-dd0cb97fd9ad",
   "metadata": {},
   "outputs": [
    {
     "name": "stdout",
     "output_type": "stream",
     "text": [
      "cm_features: Stress Reduction: False\n",
      "hog_features: Stress Reduction: False\n",
      "avgpool_features: Stress Reduction: False\n",
      "layer3_features: Stress Reduction: False\n",
      "fc_features: Stress Reduction: True\n",
      "resnet_features: Stress Reduction: True\n"
     ]
    }
   ],
   "source": [
    "for k,v in hashmap.items():\n",
    "    print(f\"{k}: Stress Reduction: {v[1] < v[0]}\")"
   ]
  },
  {
   "cell_type": "code",
   "execution_count": 177,
   "id": "dc0d119d-b1a9-4d50-ba26-df233905de47",
   "metadata": {},
   "outputs": [
    {
     "data": {
      "text/plain": [
       "-8.496122586211633e-17"
      ]
     },
     "execution_count": 177,
     "metadata": {},
     "output_type": "execute_result"
    }
   ],
   "source": [
    "(hashmap[\"fc_features\"][1] - hashmap[\"fc_features\"][0]) - (hashmap[\"resnet_features\"][1] - hashmap[\"resnet_features\"][0])"
   ]
  },
  {
   "cell_type": "code",
   "execution_count": 179,
   "id": "77449b72-9808-4c42-bc2c-054897cba048",
   "metadata": {},
   "outputs": [
    {
     "data": {
      "text/plain": [
       "{'cm_features': [2.2106663159274273e-16, 1.4421554731602732e-12],\n",
       " 'hog_features': [2.191922842555055e-16, 1.1095524473019442e-15],\n",
       " 'avgpool_features': [4.560424932506581e-16, 4.568272518781918e-16],\n",
       " 'layer3_features': [8.89857826226048e-16, 1.6507910727695148e-16],\n",
       " 'fc_features': [2.1929855952513896e-16, 6.674532021242145e-16],\n",
       " 'resnet_features': [3.499290615133032e-16, 3.514499956956765e-16]}"
      ]
     },
     "execution_count": 179,
     "metadata": {},
     "output_type": "execute_result"
    }
   ],
   "source": [
    "hashmap"
   ]
  },
  {
   "cell_type": "code",
   "execution_count": 181,
   "id": "e88800f9-23a9-4881-8d69-23fe3932e965",
   "metadata": {},
   "outputs": [
    {
     "data": {
      "text/plain": [
       "(4339, 900)"
      ]
     },
     "execution_count": 181,
     "metadata": {},
     "output_type": "execute_result"
    }
   ],
   "source": [
    "data = scipy.io.loadmat('../../Store/arrays.mat')\n",
    "fc = data[\"cm_features\"]\n",
    "fc.shape"
   ]
  },
  {
   "cell_type": "code",
   "execution_count": 185,
   "id": "5c2d3187-d4f6-4c91-89b4-a7cabf36ae91",
   "metadata": {},
   "outputs": [],
   "source": [
    "labels= data[\"labels\"]"
   ]
  },
  {
   "cell_type": "code",
   "execution_count": 252,
   "id": "a95bd78c-18df-4a64-8b91-b89373162014",
   "metadata": {},
   "outputs": [
    {
     "data": {
      "text/plain": [
       "array([  0,   0,   0, ..., 100, 100, 100])"
      ]
     },
     "execution_count": 252,
     "metadata": {},
     "output_type": "execute_result"
    }
   ],
   "source": [
    "import tensorflow as tf\n",
    "index = tf.argmax(labels, axis=1).numpy()\n"
   ]
  },
  {
   "cell_type": "code",
   "execution_count": 295,
   "id": "3a20849c-ff2b-4513-a9bd-6c2379e5fe66",
   "metadata": {},
   "outputs": [
    {
     "name": "stderr",
     "output_type": "stream",
     "text": [
      "100%|██████████████████████████████████████████████████████████████████████| 4339/4339 [00:15<00:00, 272.29it/s]\n"
     ]
    }
   ],
   "source": [
    "import numpy as np\n",
    "from tqdm import tqdm\n",
    "def get_labelled_features():\n",
    "    data = scipy.io.loadmat(ROOT_DIR+'/Store/arrays.mat')\n",
    "    if os.path.exists(os.path.join(ROOT_DIR, \"Store/latent_dim_label.mat\")):\n",
    "        return loadmat(os.path.join(ROOT_DIR, \"Store/latent_dim_label.mat\"))\n",
    "    labels = tf.argmax(data[\"labels\"], axis=1).numpy()\n",
    "    features = ['cm_features', 'hog_features', 'avgpool_features', 'layer3_features', 'fc_features', 'resnet_features'] \n",
    "\n",
    "    label_features = {_label:{feature:None for feature in features} for _label in range(101)}\n",
    "\n",
    "    for idx in tqdm(range(len(labels))):\n",
    "        for feature in features:\n",
    "            if not isinstance(label_features[labels[idx]][feature], np.ndarray):\n",
    "                label_features[labels[idx]][feature] = data[feature][idx]\n",
    "            else:\n",
    "                label_features[labels[idx]][feature] = np.vstack((label_features[labels[idx]][feature], data[feature][idx]))\n",
    "    savemat(os.path.join(ROOT_DIR, \"Store/latent_dim_label.mat\"), label_features)\n",
    "    return label_features\n",
    "    \n",
    "label_features = get_labelled_features(data)"
   ]
  },
  {
   "cell_type": "code",
   "execution_count": null,
   "id": "c795b628-ea67-4704-af90-4b900cb6e3ab",
   "metadata": {},
   "outputs": [],
   "source": [
    "def calculate_stress_per_label():\n",
    "    label_features = os.path.join(ROOT_DIR, \"Store/latent_dim_label.mat\")\n",
    "    if os.path.exists(os.path.join(ROOT_DIR, \"Store/stress_label.csv\")):\n",
    "        return\n",
    "        \n",
    "    df = pd.DataFrame(columns=[\"Label\", \"Feature Space\", \"Original Space\", \"Latent Space\", \"delta_stress\"])\n",
    "    pca = PCA(n_components='mle')\n",
    "    for label in label_features:\n",
    "            for feature in features:\n",
    "                ## Calculate Stress for label & feature\n",
    "                X_norm = featurenormalize(label_features[label][feature])\n",
    "                dissimilarities = pairwise_distances(X_norm)\n",
    "                _,stress = smacof(dissimilarities=dissimilarities, init = X_norm, normalized_stress=True, metric=False)\n",
    "                ## get latent features\n",
    "                pca.fit(X_norm)\n",
    "                X_latent = pca.transform(X_norm)\n",
    "                ## Calculate stress for latent features\n",
    "                dissimilarities_X_latent = pairwise_distances(X_latent)\n",
    "                _,stress_X_latent = smacof(dissimilarities=dissimilarities_X_latent, init = X_latent, normalized_stress=True, metric=False)\n",
    "                ## Store\n",
    "                stress_data = {\"Label\": label,\"Feature Space\": feature, \"Original Space\": stress, \"Latent Space\": stress_X_latent, \"delta_stress\": stress_X_latent - stress}\n",
    "                df = pd.concat([df, pd.DataFrame([stress_data])], ignore_index=True)\n",
    "    df.to_csv(os.path.join(ROOT_DIR, \"Store/stress_label.csv\"), index = False)\n",
    "    \n",
    "def get_best_inherent_dim_per_label():\n",
    "    df = pd.read_csv(os.path.join(ROOT_DIR, \"Store/stress_label.csv\"))\n",
    "    best_feature_per_label = []\n",
    "    for label in range(101):\n",
    "        df_label = df[df.Label == label)]\n",
    "        feature = df_label[df_label[\"Latent Space\"] == df_label[\"Latent Space\"].min()][\"Feature Space\"].values[0]\n",
    "        best_feature_per_label.append((label, feature))\n",
    "    return best_feature_per_label\n",
    "\n",
    "\n",
    "def get_inherent_dim_label(best_feature_per_label):\n",
    "    data = get_labelled_features()\n",
    "    inherent_dim_labels = dict()\n",
    "    for label, feature in best_feature_per_label:\n",
    "        inherent_dim_labels[label] = (feature, data[label][feature])\n",
    "    return inherent_dim_labels"
   ]
  },
  {
   "cell_type": "code",
   "execution_count": null,
   "id": "6cad664a-9013-4ea3-973d-40c2f5eb9081",
   "metadata": {},
   "outputs": [],
   "source": []
  },
  {
   "cell_type": "code",
   "execution_count": 305,
   "id": "e8a4ec96-9c78-4900-b472-bf59bc99b8df",
   "metadata": {},
   "outputs": [
    {
     "data": {
      "text/plain": [
       "(399, 1024)"
      ]
     },
     "execution_count": 305,
     "metadata": {},
     "output_type": "execute_result"
    }
   ],
   "source": [
    "label_features[3]['avgpool_features'].shape"
   ]
  },
  {
   "cell_type": "code",
   "execution_count": 256,
   "id": "eea92fc6-b43e-4c72-ba7f-f7926e1084e9",
   "metadata": {},
   "outputs": [
    {
     "data": {
      "text/plain": [
       "{0: {'cm_features': None,\n",
       "  'hog_features': None,\n",
       "  'avgpool_features': None,\n",
       "  'layer3_features': None,\n",
       "  'fc_features': None,\n",
       "  'resnet_features': None},\n",
       " 1: {'cm_features': None,\n",
       "  'hog_features': None,\n",
       "  'avgpool_features': None,\n",
       "  'layer3_features': None,\n",
       "  'fc_features': None,\n",
       "  'resnet_features': None},\n",
       " 2: {'cm_features': None,\n",
       "  'hog_features': None,\n",
       "  'avgpool_features': None,\n",
       "  'layer3_features': None,\n",
       "  'fc_features': None,\n",
       "  'resnet_features': None},\n",
       " 3: {'cm_features': None,\n",
       "  'hog_features': None,\n",
       "  'avgpool_features': None,\n",
       "  'layer3_features': None,\n",
       "  'fc_features': None,\n",
       "  'resnet_features': None},\n",
       " 4: {'cm_features': None,\n",
       "  'hog_features': None,\n",
       "  'avgpool_features': None,\n",
       "  'layer3_features': None,\n",
       "  'fc_features': None,\n",
       "  'resnet_features': None},\n",
       " 5: {'cm_features': None,\n",
       "  'hog_features': None,\n",
       "  'avgpool_features': None,\n",
       "  'layer3_features': None,\n",
       "  'fc_features': None,\n",
       "  'resnet_features': None},\n",
       " 6: {'cm_features': None,\n",
       "  'hog_features': None,\n",
       "  'avgpool_features': None,\n",
       "  'layer3_features': None,\n",
       "  'fc_features': None,\n",
       "  'resnet_features': None},\n",
       " 7: {'cm_features': None,\n",
       "  'hog_features': None,\n",
       "  'avgpool_features': None,\n",
       "  'layer3_features': None,\n",
       "  'fc_features': None,\n",
       "  'resnet_features': None},\n",
       " 8: {'cm_features': None,\n",
       "  'hog_features': None,\n",
       "  'avgpool_features': None,\n",
       "  'layer3_features': None,\n",
       "  'fc_features': None,\n",
       "  'resnet_features': None},\n",
       " 9: {'cm_features': None,\n",
       "  'hog_features': None,\n",
       "  'avgpool_features': None,\n",
       "  'layer3_features': None,\n",
       "  'fc_features': None,\n",
       "  'resnet_features': None},\n",
       " 10: {'cm_features': None,\n",
       "  'hog_features': None,\n",
       "  'avgpool_features': None,\n",
       "  'layer3_features': None,\n",
       "  'fc_features': None,\n",
       "  'resnet_features': None},\n",
       " 11: {'cm_features': None,\n",
       "  'hog_features': None,\n",
       "  'avgpool_features': None,\n",
       "  'layer3_features': None,\n",
       "  'fc_features': None,\n",
       "  'resnet_features': None},\n",
       " 12: {'cm_features': None,\n",
       "  'hog_features': None,\n",
       "  'avgpool_features': None,\n",
       "  'layer3_features': None,\n",
       "  'fc_features': None,\n",
       "  'resnet_features': None},\n",
       " 13: {'cm_features': None,\n",
       "  'hog_features': None,\n",
       "  'avgpool_features': None,\n",
       "  'layer3_features': None,\n",
       "  'fc_features': None,\n",
       "  'resnet_features': None},\n",
       " 14: {'cm_features': None,\n",
       "  'hog_features': None,\n",
       "  'avgpool_features': None,\n",
       "  'layer3_features': None,\n",
       "  'fc_features': None,\n",
       "  'resnet_features': None},\n",
       " 15: {'cm_features': None,\n",
       "  'hog_features': None,\n",
       "  'avgpool_features': None,\n",
       "  'layer3_features': None,\n",
       "  'fc_features': None,\n",
       "  'resnet_features': None},\n",
       " 16: {'cm_features': None,\n",
       "  'hog_features': None,\n",
       "  'avgpool_features': None,\n",
       "  'layer3_features': None,\n",
       "  'fc_features': None,\n",
       "  'resnet_features': None},\n",
       " 17: {'cm_features': None,\n",
       "  'hog_features': None,\n",
       "  'avgpool_features': None,\n",
       "  'layer3_features': None,\n",
       "  'fc_features': None,\n",
       "  'resnet_features': None},\n",
       " 18: {'cm_features': None,\n",
       "  'hog_features': None,\n",
       "  'avgpool_features': None,\n",
       "  'layer3_features': None,\n",
       "  'fc_features': None,\n",
       "  'resnet_features': None},\n",
       " 19: {'cm_features': None,\n",
       "  'hog_features': None,\n",
       "  'avgpool_features': None,\n",
       "  'layer3_features': None,\n",
       "  'fc_features': None,\n",
       "  'resnet_features': None},\n",
       " 20: {'cm_features': None,\n",
       "  'hog_features': None,\n",
       "  'avgpool_features': None,\n",
       "  'layer3_features': None,\n",
       "  'fc_features': None,\n",
       "  'resnet_features': None},\n",
       " 21: {'cm_features': None,\n",
       "  'hog_features': None,\n",
       "  'avgpool_features': None,\n",
       "  'layer3_features': None,\n",
       "  'fc_features': None,\n",
       "  'resnet_features': None},\n",
       " 22: {'cm_features': None,\n",
       "  'hog_features': None,\n",
       "  'avgpool_features': None,\n",
       "  'layer3_features': None,\n",
       "  'fc_features': None,\n",
       "  'resnet_features': None},\n",
       " 23: {'cm_features': None,\n",
       "  'hog_features': None,\n",
       "  'avgpool_features': None,\n",
       "  'layer3_features': None,\n",
       "  'fc_features': None,\n",
       "  'resnet_features': None},\n",
       " 24: {'cm_features': None,\n",
       "  'hog_features': None,\n",
       "  'avgpool_features': None,\n",
       "  'layer3_features': None,\n",
       "  'fc_features': None,\n",
       "  'resnet_features': None},\n",
       " 25: {'cm_features': None,\n",
       "  'hog_features': None,\n",
       "  'avgpool_features': None,\n",
       "  'layer3_features': None,\n",
       "  'fc_features': None,\n",
       "  'resnet_features': None},\n",
       " 26: {'cm_features': None,\n",
       "  'hog_features': None,\n",
       "  'avgpool_features': None,\n",
       "  'layer3_features': None,\n",
       "  'fc_features': None,\n",
       "  'resnet_features': None},\n",
       " 27: {'cm_features': None,\n",
       "  'hog_features': None,\n",
       "  'avgpool_features': None,\n",
       "  'layer3_features': None,\n",
       "  'fc_features': None,\n",
       "  'resnet_features': None},\n",
       " 28: {'cm_features': None,\n",
       "  'hog_features': None,\n",
       "  'avgpool_features': None,\n",
       "  'layer3_features': None,\n",
       "  'fc_features': None,\n",
       "  'resnet_features': None},\n",
       " 29: {'cm_features': None,\n",
       "  'hog_features': None,\n",
       "  'avgpool_features': None,\n",
       "  'layer3_features': None,\n",
       "  'fc_features': None,\n",
       "  'resnet_features': None},\n",
       " 30: {'cm_features': None,\n",
       "  'hog_features': None,\n",
       "  'avgpool_features': None,\n",
       "  'layer3_features': None,\n",
       "  'fc_features': None,\n",
       "  'resnet_features': None},\n",
       " 31: {'cm_features': None,\n",
       "  'hog_features': None,\n",
       "  'avgpool_features': None,\n",
       "  'layer3_features': None,\n",
       "  'fc_features': None,\n",
       "  'resnet_features': None},\n",
       " 32: {'cm_features': None,\n",
       "  'hog_features': None,\n",
       "  'avgpool_features': None,\n",
       "  'layer3_features': None,\n",
       "  'fc_features': None,\n",
       "  'resnet_features': None},\n",
       " 33: {'cm_features': None,\n",
       "  'hog_features': None,\n",
       "  'avgpool_features': None,\n",
       "  'layer3_features': None,\n",
       "  'fc_features': None,\n",
       "  'resnet_features': None},\n",
       " 34: {'cm_features': None,\n",
       "  'hog_features': None,\n",
       "  'avgpool_features': None,\n",
       "  'layer3_features': None,\n",
       "  'fc_features': None,\n",
       "  'resnet_features': None},\n",
       " 35: {'cm_features': None,\n",
       "  'hog_features': None,\n",
       "  'avgpool_features': None,\n",
       "  'layer3_features': None,\n",
       "  'fc_features': None,\n",
       "  'resnet_features': None},\n",
       " 36: {'cm_features': None,\n",
       "  'hog_features': None,\n",
       "  'avgpool_features': None,\n",
       "  'layer3_features': None,\n",
       "  'fc_features': None,\n",
       "  'resnet_features': None},\n",
       " 37: {'cm_features': None,\n",
       "  'hog_features': None,\n",
       "  'avgpool_features': None,\n",
       "  'layer3_features': None,\n",
       "  'fc_features': None,\n",
       "  'resnet_features': None},\n",
       " 38: {'cm_features': None,\n",
       "  'hog_features': None,\n",
       "  'avgpool_features': None,\n",
       "  'layer3_features': None,\n",
       "  'fc_features': None,\n",
       "  'resnet_features': None},\n",
       " 39: {'cm_features': None,\n",
       "  'hog_features': None,\n",
       "  'avgpool_features': None,\n",
       "  'layer3_features': None,\n",
       "  'fc_features': None,\n",
       "  'resnet_features': None},\n",
       " 40: {'cm_features': None,\n",
       "  'hog_features': None,\n",
       "  'avgpool_features': None,\n",
       "  'layer3_features': None,\n",
       "  'fc_features': None,\n",
       "  'resnet_features': None},\n",
       " 41: {'cm_features': None,\n",
       "  'hog_features': None,\n",
       "  'avgpool_features': None,\n",
       "  'layer3_features': None,\n",
       "  'fc_features': None,\n",
       "  'resnet_features': None},\n",
       " 42: {'cm_features': None,\n",
       "  'hog_features': None,\n",
       "  'avgpool_features': None,\n",
       "  'layer3_features': None,\n",
       "  'fc_features': None,\n",
       "  'resnet_features': None},\n",
       " 43: {'cm_features': None,\n",
       "  'hog_features': None,\n",
       "  'avgpool_features': None,\n",
       "  'layer3_features': None,\n",
       "  'fc_features': None,\n",
       "  'resnet_features': None},\n",
       " 44: {'cm_features': None,\n",
       "  'hog_features': None,\n",
       "  'avgpool_features': None,\n",
       "  'layer3_features': None,\n",
       "  'fc_features': None,\n",
       "  'resnet_features': None},\n",
       " 45: {'cm_features': None,\n",
       "  'hog_features': None,\n",
       "  'avgpool_features': None,\n",
       "  'layer3_features': None,\n",
       "  'fc_features': None,\n",
       "  'resnet_features': None},\n",
       " 46: {'cm_features': None,\n",
       "  'hog_features': None,\n",
       "  'avgpool_features': None,\n",
       "  'layer3_features': None,\n",
       "  'fc_features': None,\n",
       "  'resnet_features': None},\n",
       " 47: {'cm_features': None,\n",
       "  'hog_features': None,\n",
       "  'avgpool_features': None,\n",
       "  'layer3_features': None,\n",
       "  'fc_features': None,\n",
       "  'resnet_features': None},\n",
       " 48: {'cm_features': None,\n",
       "  'hog_features': None,\n",
       "  'avgpool_features': None,\n",
       "  'layer3_features': None,\n",
       "  'fc_features': None,\n",
       "  'resnet_features': None},\n",
       " 49: {'cm_features': None,\n",
       "  'hog_features': None,\n",
       "  'avgpool_features': None,\n",
       "  'layer3_features': None,\n",
       "  'fc_features': None,\n",
       "  'resnet_features': None},\n",
       " 50: {'cm_features': None,\n",
       "  'hog_features': None,\n",
       "  'avgpool_features': None,\n",
       "  'layer3_features': None,\n",
       "  'fc_features': None,\n",
       "  'resnet_features': None},\n",
       " 51: {'cm_features': None,\n",
       "  'hog_features': None,\n",
       "  'avgpool_features': None,\n",
       "  'layer3_features': None,\n",
       "  'fc_features': None,\n",
       "  'resnet_features': None},\n",
       " 52: {'cm_features': None,\n",
       "  'hog_features': None,\n",
       "  'avgpool_features': None,\n",
       "  'layer3_features': None,\n",
       "  'fc_features': None,\n",
       "  'resnet_features': None},\n",
       " 53: {'cm_features': None,\n",
       "  'hog_features': None,\n",
       "  'avgpool_features': None,\n",
       "  'layer3_features': None,\n",
       "  'fc_features': None,\n",
       "  'resnet_features': None},\n",
       " 54: {'cm_features': None,\n",
       "  'hog_features': None,\n",
       "  'avgpool_features': None,\n",
       "  'layer3_features': None,\n",
       "  'fc_features': None,\n",
       "  'resnet_features': None},\n",
       " 55: {'cm_features': None,\n",
       "  'hog_features': None,\n",
       "  'avgpool_features': None,\n",
       "  'layer3_features': None,\n",
       "  'fc_features': None,\n",
       "  'resnet_features': None},\n",
       " 56: {'cm_features': None,\n",
       "  'hog_features': None,\n",
       "  'avgpool_features': None,\n",
       "  'layer3_features': None,\n",
       "  'fc_features': None,\n",
       "  'resnet_features': None},\n",
       " 57: {'cm_features': None,\n",
       "  'hog_features': None,\n",
       "  'avgpool_features': None,\n",
       "  'layer3_features': None,\n",
       "  'fc_features': None,\n",
       "  'resnet_features': None},\n",
       " 58: {'cm_features': None,\n",
       "  'hog_features': None,\n",
       "  'avgpool_features': None,\n",
       "  'layer3_features': None,\n",
       "  'fc_features': None,\n",
       "  'resnet_features': None},\n",
       " 59: {'cm_features': None,\n",
       "  'hog_features': None,\n",
       "  'avgpool_features': None,\n",
       "  'layer3_features': None,\n",
       "  'fc_features': None,\n",
       "  'resnet_features': None},\n",
       " 60: {'cm_features': None,\n",
       "  'hog_features': None,\n",
       "  'avgpool_features': None,\n",
       "  'layer3_features': None,\n",
       "  'fc_features': None,\n",
       "  'resnet_features': None},\n",
       " 61: {'cm_features': None,\n",
       "  'hog_features': None,\n",
       "  'avgpool_features': None,\n",
       "  'layer3_features': None,\n",
       "  'fc_features': None,\n",
       "  'resnet_features': None},\n",
       " 62: {'cm_features': None,\n",
       "  'hog_features': None,\n",
       "  'avgpool_features': None,\n",
       "  'layer3_features': None,\n",
       "  'fc_features': None,\n",
       "  'resnet_features': None},\n",
       " 63: {'cm_features': None,\n",
       "  'hog_features': None,\n",
       "  'avgpool_features': None,\n",
       "  'layer3_features': None,\n",
       "  'fc_features': None,\n",
       "  'resnet_features': None},\n",
       " 64: {'cm_features': None,\n",
       "  'hog_features': None,\n",
       "  'avgpool_features': None,\n",
       "  'layer3_features': None,\n",
       "  'fc_features': None,\n",
       "  'resnet_features': None},\n",
       " 65: {'cm_features': None,\n",
       "  'hog_features': None,\n",
       "  'avgpool_features': None,\n",
       "  'layer3_features': None,\n",
       "  'fc_features': None,\n",
       "  'resnet_features': None},\n",
       " 66: {'cm_features': None,\n",
       "  'hog_features': None,\n",
       "  'avgpool_features': None,\n",
       "  'layer3_features': None,\n",
       "  'fc_features': None,\n",
       "  'resnet_features': None},\n",
       " 67: {'cm_features': None,\n",
       "  'hog_features': None,\n",
       "  'avgpool_features': None,\n",
       "  'layer3_features': None,\n",
       "  'fc_features': None,\n",
       "  'resnet_features': None},\n",
       " 68: {'cm_features': None,\n",
       "  'hog_features': None,\n",
       "  'avgpool_features': None,\n",
       "  'layer3_features': None,\n",
       "  'fc_features': None,\n",
       "  'resnet_features': None},\n",
       " 69: {'cm_features': None,\n",
       "  'hog_features': None,\n",
       "  'avgpool_features': None,\n",
       "  'layer3_features': None,\n",
       "  'fc_features': None,\n",
       "  'resnet_features': None},\n",
       " 70: {'cm_features': None,\n",
       "  'hog_features': None,\n",
       "  'avgpool_features': None,\n",
       "  'layer3_features': None,\n",
       "  'fc_features': None,\n",
       "  'resnet_features': None},\n",
       " 71: {'cm_features': None,\n",
       "  'hog_features': None,\n",
       "  'avgpool_features': None,\n",
       "  'layer3_features': None,\n",
       "  'fc_features': None,\n",
       "  'resnet_features': None},\n",
       " 72: {'cm_features': None,\n",
       "  'hog_features': None,\n",
       "  'avgpool_features': None,\n",
       "  'layer3_features': None,\n",
       "  'fc_features': None,\n",
       "  'resnet_features': None},\n",
       " 73: {'cm_features': None,\n",
       "  'hog_features': None,\n",
       "  'avgpool_features': None,\n",
       "  'layer3_features': None,\n",
       "  'fc_features': None,\n",
       "  'resnet_features': None},\n",
       " 74: {'cm_features': None,\n",
       "  'hog_features': None,\n",
       "  'avgpool_features': None,\n",
       "  'layer3_features': None,\n",
       "  'fc_features': None,\n",
       "  'resnet_features': None},\n",
       " 75: {'cm_features': None,\n",
       "  'hog_features': None,\n",
       "  'avgpool_features': None,\n",
       "  'layer3_features': None,\n",
       "  'fc_features': None,\n",
       "  'resnet_features': None},\n",
       " 76: {'cm_features': None,\n",
       "  'hog_features': None,\n",
       "  'avgpool_features': None,\n",
       "  'layer3_features': None,\n",
       "  'fc_features': None,\n",
       "  'resnet_features': None},\n",
       " 77: {'cm_features': None,\n",
       "  'hog_features': None,\n",
       "  'avgpool_features': None,\n",
       "  'layer3_features': None,\n",
       "  'fc_features': None,\n",
       "  'resnet_features': None},\n",
       " 78: {'cm_features': None,\n",
       "  'hog_features': None,\n",
       "  'avgpool_features': None,\n",
       "  'layer3_features': None,\n",
       "  'fc_features': None,\n",
       "  'resnet_features': None},\n",
       " 79: {'cm_features': None,\n",
       "  'hog_features': None,\n",
       "  'avgpool_features': None,\n",
       "  'layer3_features': None,\n",
       "  'fc_features': None,\n",
       "  'resnet_features': None},\n",
       " 80: {'cm_features': None,\n",
       "  'hog_features': None,\n",
       "  'avgpool_features': None,\n",
       "  'layer3_features': None,\n",
       "  'fc_features': None,\n",
       "  'resnet_features': None},\n",
       " 81: {'cm_features': None,\n",
       "  'hog_features': None,\n",
       "  'avgpool_features': None,\n",
       "  'layer3_features': None,\n",
       "  'fc_features': None,\n",
       "  'resnet_features': None},\n",
       " 82: {'cm_features': None,\n",
       "  'hog_features': None,\n",
       "  'avgpool_features': None,\n",
       "  'layer3_features': None,\n",
       "  'fc_features': None,\n",
       "  'resnet_features': None},\n",
       " 83: {'cm_features': None,\n",
       "  'hog_features': None,\n",
       "  'avgpool_features': None,\n",
       "  'layer3_features': None,\n",
       "  'fc_features': None,\n",
       "  'resnet_features': None},\n",
       " 84: {'cm_features': None,\n",
       "  'hog_features': None,\n",
       "  'avgpool_features': None,\n",
       "  'layer3_features': None,\n",
       "  'fc_features': None,\n",
       "  'resnet_features': None},\n",
       " 85: {'cm_features': None,\n",
       "  'hog_features': None,\n",
       "  'avgpool_features': None,\n",
       "  'layer3_features': None,\n",
       "  'fc_features': None,\n",
       "  'resnet_features': None},\n",
       " 86: {'cm_features': None,\n",
       "  'hog_features': None,\n",
       "  'avgpool_features': None,\n",
       "  'layer3_features': None,\n",
       "  'fc_features': None,\n",
       "  'resnet_features': None},\n",
       " 87: {'cm_features': None,\n",
       "  'hog_features': None,\n",
       "  'avgpool_features': None,\n",
       "  'layer3_features': None,\n",
       "  'fc_features': None,\n",
       "  'resnet_features': None},\n",
       " 88: {'cm_features': None,\n",
       "  'hog_features': None,\n",
       "  'avgpool_features': None,\n",
       "  'layer3_features': None,\n",
       "  'fc_features': None,\n",
       "  'resnet_features': None},\n",
       " 89: {'cm_features': None,\n",
       "  'hog_features': None,\n",
       "  'avgpool_features': None,\n",
       "  'layer3_features': None,\n",
       "  'fc_features': None,\n",
       "  'resnet_features': None},\n",
       " 90: {'cm_features': None,\n",
       "  'hog_features': None,\n",
       "  'avgpool_features': None,\n",
       "  'layer3_features': None,\n",
       "  'fc_features': None,\n",
       "  'resnet_features': None},\n",
       " 91: {'cm_features': None,\n",
       "  'hog_features': None,\n",
       "  'avgpool_features': None,\n",
       "  'layer3_features': None,\n",
       "  'fc_features': None,\n",
       "  'resnet_features': None},\n",
       " 92: {'cm_features': None,\n",
       "  'hog_features': None,\n",
       "  'avgpool_features': None,\n",
       "  'layer3_features': None,\n",
       "  'fc_features': None,\n",
       "  'resnet_features': None},\n",
       " 93: {'cm_features': None,\n",
       "  'hog_features': None,\n",
       "  'avgpool_features': None,\n",
       "  'layer3_features': None,\n",
       "  'fc_features': None,\n",
       "  'resnet_features': None},\n",
       " 94: {'cm_features': None,\n",
       "  'hog_features': None,\n",
       "  'avgpool_features': None,\n",
       "  'layer3_features': None,\n",
       "  'fc_features': None,\n",
       "  'resnet_features': None},\n",
       " 95: {'cm_features': None,\n",
       "  'hog_features': None,\n",
       "  'avgpool_features': None,\n",
       "  'layer3_features': None,\n",
       "  'fc_features': None,\n",
       "  'resnet_features': None},\n",
       " 96: {'cm_features': None,\n",
       "  'hog_features': None,\n",
       "  'avgpool_features': None,\n",
       "  'layer3_features': None,\n",
       "  'fc_features': None,\n",
       "  'resnet_features': None},\n",
       " 97: {'cm_features': None,\n",
       "  'hog_features': None,\n",
       "  'avgpool_features': None,\n",
       "  'layer3_features': None,\n",
       "  'fc_features': None,\n",
       "  'resnet_features': None},\n",
       " 98: {'cm_features': None,\n",
       "  'hog_features': None,\n",
       "  'avgpool_features': None,\n",
       "  'layer3_features': None,\n",
       "  'fc_features': None,\n",
       "  'resnet_features': None},\n",
       " 99: {'cm_features': None,\n",
       "  'hog_features': None,\n",
       "  'avgpool_features': None,\n",
       "  'layer3_features': None,\n",
       "  'fc_features': None,\n",
       "  'resnet_features': None},\n",
       " 100: {'cm_features': None,\n",
       "  'hog_features': None,\n",
       "  'avgpool_features': None,\n",
       "  'layer3_features': None,\n",
       "  'fc_features': None,\n",
       "  'resnet_features': None}}"
      ]
     },
     "execution_count": 256,
     "metadata": {},
     "output_type": "execute_result"
    }
   ],
   "source": [
    "label_features[]"
   ]
  },
  {
   "cell_type": "code",
   "execution_count": null,
   "id": "381dc7a3-a268-493f-8864-da7b489cdd57",
   "metadata": {},
   "outputs": [],
   "source": []
  },
  {
   "cell_type": "code",
   "execution_count": 258,
   "id": "b1db4fbc-b418-482c-82d6-9ec3969303ef",
   "metadata": {},
   "outputs": [
    {
     "data": {
      "text/plain": [
       "(2, 900)"
      ]
     },
     "execution_count": 258,
     "metadata": {},
     "output_type": "execute_result"
    }
   ],
   "source": [
    "np.stack((data[\"cm_features\"][0], data[\"cm_features\"][1]))"
   ]
  },
  {
   "cell_type": "code",
   "execution_count": 294,
   "id": "ee53f812-96e6-42fe-9556-9523043c5579",
   "metadata": {},
   "outputs": [
    {
     "data": {
      "text/plain": [
       "(2, 900)"
      ]
     },
     "execution_count": 294,
     "metadata": {},
     "output_type": "execute_result"
    }
   ],
   "source": [
    "x = np.vstack((data['cm_features'][0], data['cm_features'][1]))\n",
    "x.shape"
   ]
  },
  {
   "cell_type": "code",
   "execution_count": 265,
   "id": "e6b8e903-cab0-457c-a205-3df1fb46afa9",
   "metadata": {},
   "outputs": [
    {
     "data": {
      "text/plain": [
       "True"
      ]
     },
     "execution_count": 265,
     "metadata": {},
     "output_type": "execute_result"
    }
   ],
   "source": [
    "isinstance(data['cm_features'][0], np.ndarray)"
   ]
  },
  {
   "cell_type": "code",
   "execution_count": 288,
   "id": "05cb9734-f23d-42dc-9201-57aeaf923300",
   "metadata": {},
   "outputs": [
    {
     "data": {
      "text/plain": [
       "(1, 900)"
      ]
     },
     "execution_count": 288,
     "metadata": {},
     "output_type": "execute_result"
    }
   ],
   "source": [
    "data['cm_features'][0].reshape(1,900)"
   ]
  },
  {
   "cell_type": "code",
   "execution_count": 317,
   "id": "f51be6de-d06e-4c33-a459-44e93fe46676",
   "metadata": {},
   "outputs": [],
   "source": [
    "from scipy.io import loadmat\n",
    "data = loadmat(\"/root/assignments/mwd/CSE515-Project/Store/original_space_features_by_label.mat\")"
   ]
  },
  {
   "cell_type": "code",
   "execution_count": 318,
   "id": "e3a4fa45-4991-4ca6-9012-9817e31e959f",
   "metadata": {},
   "outputs": [
    {
     "data": {
      "text/plain": [
       "array([[(array([[ 9.28100000e+01,  4.67680863e+01,  3.22140643e-01, ...,\n",
       "                 2.19130000e+02,  3.41094283e+01, -2.91407672e+00],\n",
       "               [ 2.27300000e+02,  2.83800987e+01, -3.72945393e-01, ...,\n",
       "                 2.33200000e+02,  2.50259865e+01, -8.08713135e-01],\n",
       "               [ 8.54500000e+01,  1.52403248e+01, -1.60646664e+00, ...,\n",
       "                 1.23540000e+02,  3.22469906e+01,  2.11454230e-01],\n",
       "               ...,\n",
       "               [ 7.21000000e+01,  1.19167949e+01, -7.92673165e-01, ...,\n",
       "                 5.93000000e+01,  4.65500806e+01,  9.15679241e-01],\n",
       "               [ 6.34300000e+01,  3.56463897e+01,  3.16945458e-02, ...,\n",
       "                 1.04000000e+02,  7.79102047e+00, -3.35311883e+00],\n",
       "               [ 1.02210000e+02,  4.37541529e+01, -2.56405928e-01, ...,\n",
       "                 1.63470000e+02,  1.43585898e+01,  7.13910587e-01]]), array([[ 60791.79508903,   6339.78662879,   5264.69275283, ...,\n",
       "                   262.95411248,   1055.50613378,  12021.22107874],\n",
       "               [ 28485.38538235,   9264.45919419,  11010.67030829, ...,\n",
       "                   337.61812748,    323.96184659,   4591.56167789],\n",
       "               [ 68875.87495727,   5290.47694455,   5746.2173917 , ...,\n",
       "                  3631.33800776,   6217.3480241 ,  10364.61214879],\n",
       "               ...,\n",
       "               [ 13004.54587627,   6261.92686038,   4861.25588579, ...,\n",
       "                 13809.64925024,  16613.82903878,  32038.10944478],\n",
       "               [ 58227.0709064 ,   9688.56744915,   5404.51864038, ...,\n",
       "                146902.22712659,  14411.17185031,  41387.77789168],\n",
       "               [ 37803.59273171,   7231.61520142,   9255.50603448, ...,\n",
       "                117373.93077284,   2737.5146394 ,  33846.2872702 ]]), array([[0.69833738, 0.2085332 , 0.59816164, ..., 0.24242778, 0.65795344,\n",
       "                0.14850701],\n",
       "               [0.45190707, 0.09101085, 0.39177382, ..., 0.23201792, 0.45671251,\n",
       "                0.19810134],\n",
       "               [0.60532206, 0.17748037, 0.76887906, ..., 0.21744353, 0.50283819,\n",
       "                0.17226855],\n",
       "               ...,\n",
       "               [0.63710558, 0.23998888, 1.07284331, ..., 0.21548884, 0.48976731,\n",
       "                0.23665965],\n",
       "               [0.67241848, 0.42406553, 0.94644004, ..., 0.28194338, 0.57257813,\n",
       "                0.43877715],\n",
       "               [0.53887737, 0.26414087, 0.82676488, ..., 0.05718712, 0.45362496,\n",
       "                0.23626462]]), array([[0.12318239, 0.01139659, 0.03184962, ..., 0.05289739, 0.02895957,\n",
       "                0.01660882],\n",
       "               [0.08241758, 0.00683506, 0.01985477, ..., 0.05641494, 0.07188798,\n",
       "                0.02093215],\n",
       "               [0.0887359 , 0.00624302, 0.03541363, ..., 0.05108092, 0.01777333,\n",
       "                0.00480405],\n",
       "               ...,\n",
       "               [0.11211119, 0.00564937, 0.01633186, ..., 0.0431774 , 0.01375905,\n",
       "                0.0252267 ],\n",
       "               [0.11533712, 0.00716949, 0.04496928, ..., 0.05045162, 0.01238813,\n",
       "                0.01297178],\n",
       "               [0.10553149, 0.00650976, 0.02716868, ..., 0.05501045, 0.01996119,\n",
       "                0.01430383]]), array([[ 0.24818438, -0.79899824,  1.11194229, ...,  1.31007159,\n",
       "                 1.49205637,  2.51783109],\n",
       "               [ 5.20761585,  1.10875678, -0.87534666, ...,  2.07563758,\n",
       "                 2.29529452, -0.18164116],\n",
       "               [ 1.15070903,  0.04312569,  0.34862149, ...,  0.89713144,\n",
       "                 1.8506856 ,  3.30482936],\n",
       "               ...,\n",
       "               [-0.67078918,  0.15477565, -1.64275813, ...,  0.2821545 ,\n",
       "                 2.50733924,  1.15001261],\n",
       "               [-0.35643935,  0.4496586 , -2.2341516 , ..., -0.92445564,\n",
       "                 2.66269898,  4.41176891],\n",
       "               [-0.84994745,  0.02272207, -1.95368934, ..., -0.23278996,\n",
       "                 2.0459969 ,  3.33692622]]), array([[7.37576862e-04, 4.86201025e-05, 1.68727827e-04, ...,\n",
       "                2.63796304e-04, 6.33788644e-04, 9.36177501e-04],\n",
       "               [1.65289715e-02, 9.78341093e-04, 1.15934054e-04, ...,\n",
       "                6.18542661e-04, 1.52671523e-03, 2.45118601e-04],\n",
       "               [3.30212247e-03, 6.91281632e-04, 6.15260040e-04, ...,\n",
       "                4.22967511e-04, 3.64172412e-03, 9.62012040e-04],\n",
       "               ...,\n",
       "               [1.03261344e-04, 1.67608101e-04, 2.79724572e-05, ...,\n",
       "                1.71866541e-05, 5.72534860e-04, 7.91319704e-04],\n",
       "               [5.26676711e-04, 6.69247936e-04, 4.48230894e-05, ...,\n",
       "                5.09749370e-05, 8.13203689e-04, 5.99443621e-04],\n",
       "               [7.49795581e-05, 1.45758735e-04, 2.52572008e-05, ...,\n",
       "                1.95930788e-05, 6.47318782e-04, 7.87498138e-04]]))                                                                            ]],\n",
       "      dtype=[('cm_features', 'O'), ('hog_features', 'O'), ('avgpool_features', 'O'), ('layer3_features', 'O'), ('fc_features', 'O'), ('resnet_features', 'O')])"
      ]
     },
     "execution_count": 318,
     "metadata": {},
     "output_type": "execute_result"
    }
   ],
   "source": [
    "data['0']"
   ]
  },
  {
   "cell_type": "code",
   "execution_count": 319,
   "id": "61f7b56d-24b0-4b09-b934-5c1488ceddf3",
   "metadata": {},
   "outputs": [
    {
     "data": {
      "text/plain": [
       "(3, 3)"
      ]
     },
     "execution_count": 319,
     "metadata": {},
     "output_type": "execute_result"
    }
   ],
   "source": [
    "import numpy as np\n",
    "\n",
    "def pairwise_distances_custom(X, metric='euclidean', **kwargs):\n",
    "    \"\"\"\n",
    "    Calculate pairwise distances between feature descriptors without using cdist.\n",
    "\n",
    "    Parameters:\n",
    "    - X: numpy array, shape (n_samples, n_features)\n",
    "      The input array of feature descriptors.\n",
    "    - metric: str, optional (default='euclidean')\n",
    "      The distance metric to use. See the documentation of numpy.linalg.norm for available options.\n",
    "    - **kwargs: additional keyword arguments\n",
    "      Additional arguments that are passed to the underlying distance function.\n",
    "\n",
    "    Returns:\n",
    "    - dist_matrix: numpy array, shape (n_samples, n_samples)\n",
    "      The pairwise distance matrix.\n",
    "    \"\"\"\n",
    "\n",
    "    # Ensure X is a numpy array\n",
    "    X = np.array(X)\n",
    "\n",
    "    # Calculate pairwise distances without using cdist\n",
    "    dist_matrix = np.zeros((X.shape[0], X.shape[0]))\n",
    "\n",
    "    for i in range(X.shape[0]):\n",
    "        for j in range(i + 1, X.shape[0]):\n",
    "            distance = np.linalg.norm(X[i] - X[j], ord=kwargs.get('ord', 2))\n",
    "            dist_matrix[i, j] = distance\n",
    "            dist_matrix[j, i] = distance\n",
    "\n",
    "    return dist_matrix\n",
    "\n",
    "\n",
    "\n",
    "# Example usage:\n",
    "# feature_descriptors is assumed to be a numpy array of shape (n_samples, n_features)\n",
    "feature_descriptors = np.array([[1, 2, 3,], [4, 5, 6], [7, 8, 9]])\n",
    "\n",
    "# Calculate pairwise distances using the custom method\n",
    "distances = pairwise_distances_custom(feature_descriptors)\n",
    "\n",
    "\n",
    "# print(\"Pairwise Distances:\")\n",
    "# print(distances)\n"
   ]
  },
  {
   "cell_type": "code",
   "execution_count": null,
   "id": "73ed6566-3551-45f2-8116-9e38a6defa71",
   "metadata": {},
   "outputs": [],
   "source": []
  }
 ],
 "metadata": {
  "kernelspec": {
   "display_name": "Python 3 (ipykernel)",
   "language": "python",
   "name": "python3"
  },
  "language_info": {
   "codemirror_mode": {
    "name": "ipython",
    "version": 3
   },
   "file_extension": ".py",
   "mimetype": "text/x-python",
   "name": "python",
   "nbconvert_exporter": "python",
   "pygments_lexer": "ipython3",
   "version": "3.8.0"
  }
 },
 "nbformat": 4,
 "nbformat_minor": 5
}
